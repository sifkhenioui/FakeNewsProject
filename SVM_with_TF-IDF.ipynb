{
 "cells": [
  {
   "cell_type": "markdown",
   "id": "e9a5c8af",
   "metadata": {},
   "source": [
    "# SVM Method\n",
    "\n",
    "Les machines à vecteurs de support (SVM) sont une classe de modèles d'apprentissage automatique utilisés pour la classification et la régression. SVM est particulièrement populaire pour la classification de données dans des espaces de grande dimension.\n",
    "\n",
    "Le'objectif de la SVM est de trouver l'hyperplan qui sépare au mieux les données de différentes classes. \n",
    "\n",
    "\n",
    "## Utilisation de la méthide TF-IDF pour la véctprisation "
   ]
  },
  {
   "cell_type": "markdown",
   "id": "290a10fe",
   "metadata": {},
   "source": [
    "## Bibliotheques \n",
    "\n",
    "Nous nous somme basés sur essentielement sur la bibliotheque sklearn et matplotlib.pyplot."
   ]
  },
  {
   "cell_type": "code",
   "execution_count": 1,
   "id": "7afc493a",
   "metadata": {},
   "outputs": [],
   "source": [
    "import numpy as np\n",
    "import pandas as pd\n",
    "from sklearn.model_selection import train_test_split\n",
    "import joblib\n",
    "from sklearn.linear_model import PassiveAggressiveClassifier\n",
    "from sklearn.metrics import accuracy_score,precision_score,recall_score,f1_score, confusion_matrix, roc_auc_score, roc_curve \n",
    "import seaborn as sns\n",
    "import matplotlib.pyplot as plt\n",
    "from sklearn.metrics import classification_report\n",
    "from sklearn.tree import DecisionTreeClassifier\n",
    "from joblib import load\n",
    "from sklearn.svm import SVC"
   ]
  },
  {
   "cell_type": "markdown",
   "id": "c5f6555e",
   "metadata": {},
   "source": [
    "## Utilisation de la méthodes TF-IDF pour générer les tableaux vectorisés"
   ]
  },
  {
   "cell_type": "code",
   "execution_count": 2,
   "id": "27a9116f",
   "metadata": {},
   "outputs": [],
   "source": [
    "from sklearn.feature_extraction.text import TfidfVectorizer\n",
    "from sklearn.metrics.pairwise import cosine_similarity\n",
    "from sklearn.feature_extraction.text import CountVectorizer\n",
    "\n",
    "df = pd.read_csv('news/filtred_tokened_data.csv')\n",
    "\n",
    "x_train, x_test, y_train, y_test = train_test_split(df['tokens'], df['label'], test_size=0.30, random_state=50)\n",
    "\n",
    "\n",
    "tfidf_vectorizer=TfidfVectorizer(use_idf=True)\n",
    "\n",
    "# on vectorise x_train\n",
    "tfidf_x_train=tfidf_vectorizer.fit_transform(x_train).toarray()\n",
    "\n",
    "# on vectorise y_train\n",
    "tfidf_x_test=tfidf_vectorizer.transform(x_test)\n",
    "\n",
    "\n",
    "\n",
    "#cv = CountVectorizer()\n",
    "#tfidf_x_train=cv.fit_transform(x_train)\n",
    "\n"
   ]
  },
  {
   "cell_type": "code",
   "execution_count": null,
   "id": "205f4924",
   "metadata": {},
   "outputs": [],
   "source": []
  },
  {
   "cell_type": "code",
   "execution_count": 3,
   "id": "712ea23c",
   "metadata": {},
   "outputs": [
    {
     "name": "stdout",
     "output_type": "stream",
     "text": [
      "(31428, 100047)\n",
      "13470\n",
      "(31428,)\n",
      "31428\n"
     ]
    }
   ],
   "source": [
    "print(tfidf_x_train.shape)\n",
    "print(tfidf_x_test.shape[0])\n",
    "\n",
    "print(y_train.shape)\n",
    "print(y_train.shape[0])\n"
   ]
  },
  {
   "cell_type": "markdown",
   "id": "1101a8ad",
   "metadata": {},
   "source": [
    "#  Evaluation de plusieurs filtres \n",
    "\n",
    "La méthode SVM de sklearn propose plusieurs noyeaux pour la fonction SVC\n",
    "\n",
    "'linear' : Noyau linéaire (SVM linéaire).\n",
    "'rbf' : Noyau gaussien radial (SVM à noyau gaussien).\n",
    "'poly' : Noyau polynomial.\n",
    "'sigmoid' : Noyau sigmoïde.\n",
    "\n",
    "## 1- Noyau Linéaire"
   ]
  },
  {
   "cell_type": "code",
   "execution_count": 4,
   "id": "ab8a2fff",
   "metadata": {},
   "outputs": [],
   "source": [
    "from sklearn.svm import LinearSVC\n",
    "model = LinearSVC(dual=False,random_state=50)\n",
    "\n",
    "\n",
    "# model = SVC(kernel='linear', C=0.1, random_state=50) # probleme la fonction rentre dans une boucle infinie!!!\n"
   ]
  },
  {
   "cell_type": "code",
   "execution_count": 5,
   "id": "9a1d2f70",
   "metadata": {},
   "outputs": [],
   "source": [
    "#on entraine le model sur les données d'entrainement.\n",
    "history = model.fit(tfidf_x_train,y_train)"
   ]
  },
  {
   "cell_type": "code",
   "execution_count": 6,
   "id": "4c9c5984",
   "metadata": {},
   "outputs": [],
   "source": [
    "#optention des prédictions de ce modèle.\n",
    "y_pred=model.predict(tfidf_x_test)"
   ]
  },
  {
   "cell_type": "markdown",
   "id": "2f73441a",
   "metadata": {},
   "source": [
    "#### Evaluation de la méthode "
   ]
  },
  {
   "cell_type": "code",
   "execution_count": 7,
   "id": "e2e51730",
   "metadata": {},
   "outputs": [
    {
     "data": {
      "text/plain": [
       "0.9962138084632517"
      ]
     },
     "execution_count": 7,
     "metadata": {},
     "output_type": "execute_result"
    }
   ],
   "source": [
    "model.score(tfidf_x_test, y_test)"
   ]
  },
  {
   "cell_type": "code",
   "execution_count": 8,
   "id": "3ba21126",
   "metadata": {},
   "outputs": [
    {
     "data": {
      "image/png": "[encoded data removed]",
      "text/plain": [
       "<Figure size 640x480 with 2 Axes>"
      ]
     },
     "metadata": {},
     "output_type": "display_data"
    }
   ],
   "source": [
    "#creation de la matrice de confusion\n",
    "cm = confusion_matrix(y_test, y_pred)\n",
    "\n",
    "#représentation graphique du résultat du meilleure model\n",
    "sns.heatmap(cm, annot=True,cmap='Blues')\n",
    "plt.xlabel('Les valeurs prédits')\n",
    "plt.ylabel('Les vrais valeurs')\n",
    "plt.title('Matrice de confusion')\n",
    "plt.show()"
   ]
  },
  {
   "cell_type": "markdown",
   "id": "ec0f9c9d",
   "metadata": {},
   "source": [
    "## 2- Noyeau Gaussien Radial\n",
    "\n"
   ]
  },
  {
   "cell_type": "code",
   "execution_count": 9,
   "id": "218c6428",
   "metadata": {},
   "outputs": [],
   "source": [
    "from sklearn.svm import LinearSVC\n",
    "from sklearn.svm import NuSVR\n",
    "\n",
    "model = SVC(kernel='rbf', random_state=50)"
   ]
  },
  {
   "cell_type": "code",
   "execution_count": 10,
   "id": "bce88249",
   "metadata": {},
   "outputs": [],
   "source": [
    "#on entraine le model sur les données d'entrainement.\n",
    "history = model.fit(tfidf_x_train,y_train)\n",
    "\n"
   ]
  },
  {
   "cell_type": "code",
   "execution_count": 11,
   "id": "e18778ce",
   "metadata": {},
   "outputs": [],
   "source": [
    "y_pred=model.predict(tfidf_x_test)\n"
   ]
  },
  {
   "cell_type": "code",
   "execution_count": 12,
   "id": "3ae4bdaf",
   "metadata": {},
   "outputs": [],
   "source": [
    "#### Evaluation de la méthode "
   ]
  },
  {
   "cell_type": "code",
   "execution_count": 13,
   "id": "cc73fe73",
   "metadata": {},
   "outputs": [
    {
     "data": {
      "text/plain": [
       "0.9962138084632517"
      ]
     },
     "execution_count": 13,
     "metadata": {},
     "output_type": "execute_result"
    }
   ],
   "source": [
    "model.score(tfidf_x_test, y_test)"
   ]
  },
  {
   "cell_type": "code",
   "execution_count": 14,
   "id": "1fda703b",
   "metadata": {},
   "outputs": [
    {
     "data": {
      "image/png": "[encoded data removed]",
      "text/plain": [
       "<Figure size 640x480 with 2 Axes>"
      ]
     },
     "metadata": {},
     "output_type": "display_data"
    },
    {
     "name": "stdout",
     "output_type": "stream",
     "text": [
      "              precision    recall  f1-score   support\n",
      "\n",
      "           0       1.00      1.00      1.00      6341\n",
      "           1       1.00      1.00      1.00      7129\n",
      "\n",
      "    accuracy                           1.00     13470\n",
      "   macro avg       1.00      1.00      1.00     13470\n",
      "weighted avg       1.00      1.00      1.00     13470\n",
      "\n"
     ]
    }
   ],
   "source": [
    "#creation de la matrice de confusion\n",
    "cm = confusion_matrix(y_test, y_pred)\n",
    "\n",
    "#représentation graphique du résultat du meilleure model\n",
    "sns.heatmap(cm, annot=True,cmap='Reds')\n",
    "plt.xlabel('Les valeurs prédits')\n",
    "plt.ylabel('Les vrais valeurs')\n",
    "plt.title('Matrice de confusion')\n",
    "plt.show()\n",
    "print(classification_report(y_test, y_pred))"
   ]
  },
  {
   "cell_type": "markdown",
   "id": "433f8e31",
   "metadata": {},
   "source": [
    "## 3- Noyeau Polynomianl"
   ]
  },
  {
   "cell_type": "code",
   "execution_count": 15,
   "id": "c00281c5",
   "metadata": {},
   "outputs": [],
   "source": [
    "model = SVC(kernel='poly', C=0.1, random_state=50)\n"
   ]
  },
  {
   "cell_type": "code",
   "execution_count": null,
   "id": "fff76b8a",
   "metadata": {},
   "outputs": [],
   "source": [
    "model.fit(tfidf_x_train,y_train)"
   ]
  },
  {
   "cell_type": "code",
   "execution_count": null,
   "id": "fd1b4a67",
   "metadata": {},
   "outputs": [],
   "source": [
    "y_pred=model.predict(tfidf_x_test)"
   ]
  },
  {
   "cell_type": "code",
   "execution_count": null,
   "id": "0cfd97cf",
   "metadata": {},
   "outputs": [],
   "source": [
    "model.score(tfidf_x_test, y_test)"
   ]
  },
  {
   "cell_type": "code",
   "execution_count": null,
   "id": "6acc4283",
   "metadata": {},
   "outputs": [],
   "source": [
    "#creation de la matrice de confusion\n",
    "cm = confusion_matrix(y_test, y_pred)\n",
    "\n",
    "#représentation graphique du résultat du meilleure model\n",
    "sns.heatmap(cm, annot=True,cmap='Greys')\n",
    "plt.xlabel('Les valeurs prédits')\n",
    "plt.ylabel('Les vrais valeurs')\n",
    "plt.title('Matrice de confusion')\n",
    "plt.show()\n",
    "print(classification_report(y_test, y_pred))"
   ]
  },
  {
   "cell_type": "markdown",
   "id": "7105b0f6",
   "metadata": {},
   "source": [
    "## 4- Noyeau Sigmoid"
   ]
  },
  {
   "cell_type": "code",
   "execution_count": null,
   "id": "1d0eeec4",
   "metadata": {},
   "outputs": [],
   "source": [
    "model = SVC(kernel='sigmoid', C=0.1, random_state=50)"
   ]
  },
  {
   "cell_type": "code",
   "execution_count": null,
   "id": "16936ae0",
   "metadata": {},
   "outputs": [],
   "source": [
    "y_pred=model.predict(tfidf_x_test)"
   ]
  },
  {
   "cell_type": "code",
   "execution_count": null,
   "id": "c107e2cc",
   "metadata": {},
   "outputs": [],
   "source": [
    "model.score(tfidf_x_test, y_test)"
   ]
  },
  {
   "cell_type": "code",
   "execution_count": null,
   "id": "c23586d6",
   "metadata": {},
   "outputs": [],
   "source": [
    "#creation de la matrice de confusion\n",
    "cm = confusion_matrix(y_test, y_pred)\n",
    "\n",
    "#représentation graphique du résultat du meilleure model\n",
    "sns.heatmap(cm, annot=True,cmap='Greens')\n",
    "plt.xlabel('Les valeurs prédits')\n",
    "plt.ylabel('Les vrais valeurs')\n",
    "plt.title('Matrice de confusion')\n",
    "plt.show()\n",
    "print(classification_report(y_test, y_pred))"
   ]
  },
  {
   "cell_type": "code",
   "execution_count": null,
   "id": "585a64fe",
   "metadata": {},
   "outputs": [],
   "source": []
  }
 ],
 "metadata": {
  "kernelspec": {
   "display_name": "Python 3 (ipykernel)",
   "language": "python",
   "name": "python3"
  },
  "language_info": {
   "codemirror_mode": {
    "name": "ipython",
    "version": 3
   },
   "file_extension": ".py",
   "mimetype": "text/x-python",
   "name": "python",
   "nbconvert_exporter": "python",
   "pygments_lexer": "ipython3",
   "version": "3.11.5"
  }
 },
 "nbformat": 4,
 "nbformat_minor": 5
}

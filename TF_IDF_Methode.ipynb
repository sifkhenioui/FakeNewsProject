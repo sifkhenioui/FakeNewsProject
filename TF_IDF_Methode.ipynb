{
 "cells": [
  {
   "cell_type": "code",
   "execution_count": 1,
   "id": "06860c80",
   "metadata": {},
   "outputs": [],
   "source": [
    "import numpy as np\n",
    "import pandas as pd\n",
    "from sklearn.model_selection import train_test_split\n",
    "import joblib\n",
    "from joblib import load, dump"
   ]
  },
  {
   "cell_type": "markdown",
   "id": "a4fdde86",
   "metadata": {},
   "source": [
    "## Vectorisation \n",
    "## Methode TF-IDF"
   ]
  },
  {
   "cell_type": "code",
   "execution_count": 2,
   "id": "02c91715",
   "metadata": {},
   "outputs": [],
   "source": [
    "tfidf_filename='tfidf_vectorizer_file.pkl'\n",
    "\n"
   ]
  },
  {
   "cell_type": "code",
   "execution_count": 3,
   "id": "b65afc94",
   "metadata": {},
   "outputs": [],
   "source": [
    "from sklearn.feature_extraction.text import TfidfVectorizer\n",
    "from sklearn.metrics.pairwise import cosine_similarity\n",
    "\n",
    "df = pd.read_csv('news/filtred_tokened_data.csv')\n",
    "\n",
    "x_train, x_test, y_train, y_test = train_test_split(df['tokens'], df['label'], test_size=0.30, random_state=50)\n",
    "\n",
    "tfidf_vectorizer=TfidfVectorizer(use_idf=True)\n",
    "\n",
    "# on vectorise x_train\n",
    "tfidf_x_train=tfidf_vectorizer.fit_transform(x_train).toarray()\n",
    "\n",
    "# on vectorise y_train\n",
    "tfidf_x_test=tfidf_vectorizer.transform(x_test)"
   ]
  },
  {
   "cell_type": "code",
   "execution_count": 7,
   "id": "be2fed11",
   "metadata": {},
   "outputs": [
    {
     "data": {
      "text/plain": [
       "['tfidf_x_trainlist.pkl']"
      ]
     },
     "execution_count": 7,
     "metadata": {},
     "output_type": "execute_result"
    }
   ],
   "source": []
  },
  {
   "cell_type": "code",
   "execution_count": 4,
   "id": "ab492b30",
   "metadata": {},
   "outputs": [
    {
     "data": {
      "text/plain": [
       "['y_test.pkl']"
      ]
     },
     "execution_count": 4,
     "metadata": {},
     "output_type": "execute_result"
    }
   ],
   "source": [
    "dump(tfidf_vectorizer, tfidf_filename) #on stoque le vectorizer dans un fichier pour le reutiliser plus tard.\n"
   ]
  },
  {
   "cell_type": "code",
   "execution_count": 5,
   "id": "224c8779",
   "metadata": {},
   "outputs": [
    {
     "name": "stdout",
     "output_type": "stream",
     "text": [
      "19745    ['canada', 's', 'obama', ' ', 'watch', 'new', ...\n",
      "27118    ['facebook', 'troll', 'excited', 'obamacare', ...\n",
      "40335    ['new', 'low', ' ', 'obama', 'races', 'microph...\n",
      "27507    ['hard', 'core', ' ', 'conservative', ' ', 'st...\n",
      "31392    ['whose', 'convention', 'speech', 'viewers', '...\n",
      "                               ...                        \n",
      "41030    ['former', 'venezuelan', 'prosecutor', 'meets'...\n",
      "22637    ['trump', 'accuses', 'civil', 'rights', 'leade...\n",
      "42891    ['breaking', ' ', 'lead', 'republican', 'inves...\n",
      "38368    ['college', 'students', 'tell', 'london', 'may...\n",
      "14000    ['tillerson', 'says', 'u', 's', ' ', 'ready', ...\n",
      "Name: tokens, Length: 31428, dtype: object\n",
      "31428\n",
      "(31428,)\n",
      "31428\n"
     ]
    }
   ],
   "source": [
    "print(x_train)\n",
    "print(x_train.shape[0])\n",
    "\n",
    "print(y_train.shape)\n",
    "print(y_train.shape[0])"
   ]
  },
  {
   "cell_type": "code",
   "execution_count": 6,
   "id": "d1b35564",
   "metadata": {},
   "outputs": [
    {
     "data": {
      "text/plain": [
       "(31428, 100047)"
      ]
     },
     "execution_count": 6,
     "metadata": {},
     "output_type": "execute_result"
    }
   ],
   "source": [
    "tfidf_x_train.shape"
   ]
  },
  {
   "cell_type": "code",
   "execution_count": null,
   "id": "a0f9bd15",
   "metadata": {},
   "outputs": [],
   "source": []
  },
  {
   "cell_type": "code",
   "execution_count": null,
   "id": "3bc6f2e9",
   "metadata": {},
   "outputs": [],
   "source": []
  }
 ],
 "metadata": {
  "kernelspec": {
   "display_name": "Python 3 (ipykernel)",
   "language": "python",
   "name": "python3"
  },
  "language_info": {
   "codemirror_mode": {
    "name": "ipython",
    "version": 3
   },
   "file_extension": ".py",
   "mimetype": "text/x-python",
   "name": "python",
   "nbconvert_exporter": "python",
   "pygments_lexer": "ipython3",
   "version": "3.11.5"
  }
 },
 "nbformat": 4,
 "nbformat_minor": 5
}
